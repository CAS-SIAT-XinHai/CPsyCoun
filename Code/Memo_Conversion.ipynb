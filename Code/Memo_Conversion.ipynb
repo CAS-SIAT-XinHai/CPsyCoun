{
 "cells": [
  {
   "cell_type": "markdown",
   "metadata": {},
   "source": [
    "# Memo Conversion\n",
    "* model：GLM-4\n",
    "* psychological counseling report to counseling note "
   ]
  },
  {
   "cell_type": "code",
   "execution_count": 1,
   "metadata": {},
   "outputs": [],
   "source": [
    "import threading\n",
    "import json\n",
    "import os\n",
    "from tqdm import tqdm\n",
    "import concurrent.futures\n",
    "import requests\n",
    "from zhipuai import ZhipuAI"
   ]
  },
  {
   "cell_type": "code",
   "execution_count": null,
   "metadata": {},
   "outputs": [],
   "source": [
    "system_message = '''\n",
    "# Role \n",
    "你是一位有着二十年从业经验的心理咨询师，擅长重建心理咨询场景。\n",
    "## Attention\n",
    "您负责基于心理咨询报告，设计咨询笔记。\n",
    "\n",
    "## Skills\n",
    "### Skill 1：解析心理咨询报告\n",
    "- 详细读取和解析来访者心理咨询报告的所有内容。\n",
    "- 理解和把握来访者的基本情况、心理问题等关键信息。\n",
    "\n",
    "### Skill 2：设计咨询笔记\n",
    "- 基于咨询报告的消化和理解，设计出专业的咨询笔记。\n",
    "- 咨询笔记包括：\"咨询笔记：\"\n",
    "   -  来访者的基本情况： \"一、来访者的基本情况\"\n",
    "   -  来访者的心理问题： \"二、来访者的心理问题\"\n",
    "   -  咨询方案： \"三、咨询方案\"\n",
    "       - 咨询目标\n",
    "       - 心理咨询技术\n",
    "       - 具体执行计划\n",
    "   -  经验感想与反思： \"四、经验感想与反思\"\n",
    "\n",
    "## Constrains\n",
    "- 尽可能使用专业的心理咨询词汇和术语\n",
    "- 遵循心理咨询的隐私准则\n",
    "- <咨询方案>中来访者的基本情况务必为来访者基本情况的总结\n",
    "- <咨询方案>中来访者的心理问题务必为来访者具体的心理问题\n",
    "\n",
    "请深呼吸并逐步分析心理咨询报告，基于其内容设计咨询笔记。\n",
    "'''\n",
    "\n"
   ]
  },
  {
   "cell_type": "code",
   "execution_count": null,
   "metadata": {},
   "outputs": [],
   "source": [
    "interrupted = threading.Event()\n",
    "pbar = None"
   ]
  },
  {
   "cell_type": "code",
   "execution_count": null,
   "metadata": {},
   "outputs": [],
   "source": [
    "def get_completion_from_messages(case, i, system_message):\n",
    "\n",
    "    try:\n",
    "        if interrupted.is_set():\n",
    "            raise KeyboardInterrupt\n",
    "        \n",
    "        case_str = json.dumps(case, ensure_ascii=False)\n",
    "        \n",
    "        if not case_str:\n",
    "            print(f\"Error at {i}: invalid\")\n",
    "            with open(\"error_log.txt\", \"a\") as f:\n",
    "                f.write(f\"\\nError at case {i}: invalid\")\n",
    "            return\n",
    "        \n",
    "        case_str = system_message + '\\n' + '心理咨询报告:\"\"\"' + case_str + '\"\"\"'\n",
    "\n",
    "        messages = [{\"role\": \"user\", \"content\": case_str}]\n",
    "\n",
    "        client = ZhipuAI(api_key=\"your api key\")\n",
    "\n",
    "        response = client.chat.completions.create(\n",
    "            model=\"glm-4\",\n",
    "            messages = messages,\n",
    "            temperature= 0.85,\n",
    "            top_p= 0.7,\n",
    "            incremental=True\n",
    "        )\n",
    "        \n",
    "        with open(f\"response_case_{i}.txt\", 'w') as f:\n",
    "            ans = response['data']['choices'][0]['content']\n",
    "            f.writelines(ans)\n",
    "\n",
    "    except KeyboardInterrupt:\n",
    "        print(f\"Error at case {i}: Interrupted\")\n",
    "        with open(\"error_log.txt\", \"a\") as f:\n",
    "            f.write(f\"\\nError at case {i}: Interrupted\")\n",
    "        return\n",
    "    \n",
    "    except Exception as e:\n",
    "        print(f\"Error at case {i}: {e}\")\n",
    "        with open(\"error_log.txt\", \"a\") as f:\n",
    "            f.write(f\"\\nError at case {i}: {e}\")\n",
    "\n",
    "    pbar.update()\n",
    "\n",
    "def load_case(filepath):\n",
    "    with open(filepath, 'r') as f:\n",
    "        case = json.load(f)\n",
    "    return case\n"
   ]
  },
  {
   "cell_type": "code",
   "execution_count": null,
   "metadata": {},
   "outputs": [],
   "source": [
    "if __name__ == \"__main__\":\n",
    "    path = ''   # report file path\n",
    "    threads = []\n",
    "    pbar = tqdm(total=3133, desc=\"Processing\", dynamic_ncols=True, unit=\" case\", lock_args=(False,))\n",
    "\n",
    "    try:\n",
    "        with concurrent.futures.ThreadPoolExecutor() as executor:\n",
    "            for i in range(0, 3133): \n",
    "                case_file_path = os.path.join(path, f'case_{i}.json')\n",
    "                case = load_case(case_file_path)\n",
    "                executor.submit(get_completion_from_messages, case, i, system_message)\n",
    "\n",
    "    except KeyboardInterrupt:\n",
    "        print(\"Interrupted by user\")\n",
    "        interrupted.set()\n",
    "\n",
    "    pbar.close()"
   ]
  }
 ],
 "metadata": {
  "kernelspec": {
   "display_name": "base",
   "language": "python",
   "name": "python3"
  },
  "language_info": {
   "codemirror_mode": {
    "name": "ipython",
    "version": 3
   },
   "file_extension": ".py",
   "mimetype": "text/x-python",
   "name": "python",
   "nbconvert_exporter": "python",
   "pygments_lexer": "ipython3",
   "version": "3.9.16"
  }
 },
 "nbformat": 4,
 "nbformat_minor": 2
}
