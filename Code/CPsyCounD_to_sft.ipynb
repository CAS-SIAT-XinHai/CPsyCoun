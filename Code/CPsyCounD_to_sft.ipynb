{
 "cells": [
  {
   "cell_type": "markdown",
   "metadata": {},
   "source": [
    "# CPsyCounD.txt convert to CPsyCounD.json\n",
    "* SFT dataset: CPsyCounD.json\n",
    "* Data Format: llaMA-Factory"
   ]
  },
  {
   "cell_type": "code",
   "execution_count": null,
   "metadata": {},
   "outputs": [],
   "source": [
    "import json\n",
    "import re\n",
    "import os"
   ]
  },
  {
   "cell_type": "code",
   "execution_count": null,
   "metadata": {},
   "outputs": [],
   "source": [
    "visitor_pattern = re.compile(r'来访者：(.*?)\\n(?=心理咨询师：)', re.S)\n",
    "therapist_pattern = re.compile(r'心理咨询师：(.*?)(?=\\n来访者：|\\Z)', re.S)\n",
    "\n",
    "def txt_to_sft_json(txt_content):\n",
    "    visitor_dialogues = re.findall(visitor_pattern, txt_content)\n",
    "    therapist_dialogues = re.findall(therapist_pattern, txt_content)\n",
    "\n",
    "    sft_data = []\n",
    "    history = []\n",
    "\n",
    "    for i in range(len(visitor_dialogues)):\n",
    "        if i < len(therapist_dialogues):\n",
    "            history.append([visitor_dialogues[i], therapist_dialogues[i]])\n",
    "            output_dialogue = therapist_dialogues[i]\n",
    "        else:\n",
    "            break\n",
    "\n",
    "        sft_data.append({\n",
    "            \"instruction\": visitor_dialogues[i],\n",
    "            \"input\": \"\",\n",
    "            \"output\": output_dialogue,\n",
    "            \"history\": history[:-1]  \n",
    "        })\n",
    "\n",
    "    return sft_data\n",
    "\n",
    "def save_as_json(data, file_path):\n",
    "    with open(file_path, 'w', encoding='utf-8') as json_file:\n",
    "        json.dump(data, json_file, ensure_ascii=False, indent=4)\n",
    "\n",
    "def convert_folder_txt_to_json(input_folder_path, output_folder_path):\n",
    "    if not os.path.exists(output_folder_path):\n",
    "        os.makedirs(output_folder_path)\n",
    "\n",
    "    for file_name in os.listdir(input_folder_path):\n",
    "        if file_name.endswith('.txt'):\n",
    "            file_path = os.path.join(input_folder_path, file_name)\n",
    "            with open(file_path, 'r', encoding='utf-8') as txt_file:\n",
    "                content = txt_file.read()\n",
    "            \n",
    "            sft_data = txt_to_sft_json(content)\n",
    "            # Check if client_dialogues and therapist_dialogues are empty\n",
    "            if not sft_data:\n",
    "                print(f\"Error: No dialogues found in file {file_name}\")\n",
    "                continue\n",
    "            \n",
    "            json_file_path = os.path.join(output_folder_path, file_name.replace('.txt', '.json'))\n",
    "            save_as_json(sft_data, json_file_path)\n",
    "\n"
   ]
  },
  {
   "cell_type": "code",
   "execution_count": null,
   "metadata": {},
   "outputs": [],
   "source": [
    "folder_path = ''    # CPsyCounD.txt path\n",
    "output_folder_path = ''  # CPsyCounD.json path\n",
    "\n",
    "convert_folder_txt_to_json(folder_path, output_folder_path)"
   ]
  },
  {
   "cell_type": "code",
   "execution_count": null,
   "metadata": {},
   "outputs": [],
   "source": [
    "with open('CPsyCounD.json', 'r', encoding='utf-8') as file:\n",
    "    data = json.load(file)"
   ]
  }
 ],
 "metadata": {
  "kernelspec": {
   "display_name": "base",
   "language": "python",
   "name": "python3"
  },
  "language_info": {
   "codemirror_mode": {
    "name": "ipython",
    "version": 3
   },
   "file_extension": ".py",
   "mimetype": "text/x-python",
   "name": "python",
   "nbconvert_exporter": "python",
   "pygments_lexer": "ipython3",
   "version": "3.9.16"
  }
 },
 "nbformat": 4,
 "nbformat_minor": 2
}
