{
 "cells": [
  {
   "cell_type": "markdown",
   "metadata": {},
   "source": [
    "# Turn-Based Dialogue Evaluation\n",
    "* Dataset: CPsyCounE\n",
    "* Model: GPT-4 Turbo"
   ]
  },
  {
   "cell_type": "code",
   "execution_count": null,
   "metadata": {},
   "outputs": [],
   "source": [
    "import json\n",
    "import os"
   ]
  },
  {
   "cell_type": "code",
   "execution_count": null,
   "metadata": {},
   "outputs": [],
   "source": [
    "def read_json_files(folder_path):\n",
    "    \"\"\"\n",
    "    读取指定文件夹路径下的所有json文件。\n",
    "    \"\"\"\n",
    "    json_files = [pos_json for pos_json in os.listdir(folder_path) if pos_json.endswith('.json')]\n",
    "    dialogues = []\n",
    "    for json_file in json_files:\n",
    "        file_path = os.path.join(folder_path, json_file)\n",
    "        with open(file_path, 'r', encoding='utf-8') as f:\n",
    "            dialogue_data = json.load(f)\n",
    "            dialogues.append(dialogue_data)\n",
    "    return dialogues\n"
   ]
  },
  {
   "cell_type": "code",
   "execution_count": null,
   "metadata": {},
   "outputs": [],
   "source": [
    "\n",
    "def construct_turn_based_dialogues(dialogue_data):\n",
    "    \"\"\"\n",
    "    根据对话数据构造Turn-Based对话。\n",
    "    \"\"\"\n",
    "    turn_based_dialogues = []\n",
    "    history_dialogue = \"\"\n",
    "    for utterance in dialogue_data:\n",
    "        if \"求助者：\" in utterance:\n",
    "            if history_dialogue:\n",
    "                turn_based_dialogues.append(history_dialogue)\n",
    "            history_dialogue = utterance\n",
    "        else:\n",
    "            history_dialogue += \" \" + utterance\n",
    "    turn_based_dialogues.append(history_dialogue)\n",
    "    return turn_based_dialogues\n"
   ]
  },
  {
   "cell_type": "code",
   "execution_count": null,
   "metadata": {},
   "outputs": [],
   "source": [
    "\n",
    "def generate_replies(turn_based_dialogues, model_reply):\n",
    "    \"\"\"\n",
    "    使用用户提供的模型生成每个Turn-Based对话的回复。\n",
    "    \"\"\"\n",
    "    turn_based_replies = []\n",
    "    for dialogue in turn_based_dialogues:\n",
    "        reply = model_reply(dialogue)\n",
    "        turn_based_replies.append(reply)\n",
    "    return turn_based_replies\n"
   ]
  },
  {
   "cell_type": "code",
   "execution_count": null,
   "metadata": {},
   "outputs": [],
   "source": [
    "\n",
    "def evaluate_replies(turn_based_dialogues, turn_based_replies, evaluate_reply):\n",
    "    \"\"\"\n",
    "    使用GPT-4评价每个Turn-Based对话回复的得分。\n",
    "    \"\"\"\n",
    "    scores = []\n",
    "    for dialogue, reply in zip(turn_based_dialogues, turn_based_replies):\n",
    "        score = evaluate_reply(dialogue, reply)\n",
    "        scores.append(score)\n",
    "    return scores\n"
   ]
  },
  {
   "cell_type": "code",
   "execution_count": 40,
   "metadata": {},
   "outputs": [],
   "source": [
    "\n",
    "def write_evaluation_results(scores, theme_folder, cnt):\n",
    "    # 定位到仓库的根目录\n",
    "    base_dir = os.path.abspath(os.path.join('..'))\n",
    "    # 构建结果文件夹的完整路径\n",
    "    results_dir = os.path.join(base_dir, \"Results_Turn_Based_Dialogue_Evaluation\", theme_folder)\n",
    "    # 检查结果文件夹是否存在，如果不存在，则创建它\n",
    "    if not os.path.exists(results_dir):\n",
    "        os.makedirs(results_dir)\n",
    "    \n",
    "    # 完整路径\n",
    "    result_file_path = os.path.join(results_dir, f\"evaluation_results_{cnt}.txt\")\n",
    "    \n",
    "    with open(result_file_path, 'w') as f:\n",
    "        # 在文件开始处写入主题名\n",
    "        f.write(f\"{theme_folder}\\n\")\n",
    "        # 逐行写入每轮的评分，前面带有轮数信息\n",
    "        for i, score in enumerate(scores, start=1):\n",
    "            f.write(f\"Round {i}, Score: {score}\\n\")  # BUG\n",
    "        # 计算并写入平均评分\n",
    "        avg_score = sum(scores) / len(scores)   # BUG\n",
    "        f.write(f\"Average Score: {avg_score}\\n\")\n",
    "\n"
   ]
  },
  {
   "cell_type": "code",
   "execution_count": null,
   "metadata": {},
   "outputs": [],
   "source": [
    "# BUG\n",
    "# 示例模型回复函数（这需要替换为实际使用的模型）\n",
    "def model_reply(history):\n",
    "    # 这里应该是模型生成回复的代码\n",
    "    # 返回生成的回复\n",
    "    return \"这是一个示例回复。\"\n",
    "\n",
    "# 示例评价函数（这需要替换为实际使用GPT-4的代码）\n",
    "def evaluate_reply(history, reply):\n",
    "    # 这里应该是GPT-4评价回复的代码\n",
    "    # 返回评价得分\n",
    "    return 5  # 这个分数仅为例子\n"
   ]
  },
  {
   "cell_type": "markdown",
   "metadata": {},
   "source": [
    "## 单一主题"
   ]
  },
  {
   "cell_type": "code",
   "execution_count": 41,
   "metadata": {},
   "outputs": [],
   "source": [
    "# 主题：'Career', 'Education', 'Emotion&Stress', 'Family Relationship', 'Love&Marriage', 'Mental Disease', 'Self-growth', 'Sex', 'Social Relationship'\n",
    "# 主题文件夹的路径\n",
    "theme_folder = '' # 填入主题文件夹的名称    \n",
    "theme_folder_path = os.path.abspath(os.path.join('..', 'CPsyCounE', theme_folder))\n",
    "# 执行读取JSON文件\n",
    "dialogues = read_json_files(theme_folder_path)\n",
    "\n",
    "for i in range(len(dialogues)):\n",
    "    cnt = i\n",
    "    dialogue_data = dialogues[i]\n",
    "    # 构造Turn-Based对话\n",
    "    turn_based_dialogues = construct_turn_based_dialogues(dialogue_data)\n",
    "    # 生成回复\n",
    "    turn_based_replies = generate_replies(turn_based_dialogues, model_reply)\n",
    "    # 评价得分\n",
    "    scores = evaluate_replies(turn_based_dialogues, turn_based_replies, evaluate_reply)\n",
    "    # 写入评价结果\n",
    "    write_evaluation_results(scores, theme_folder, cnt)"
   ]
  },
  {
   "cell_type": "markdown",
   "metadata": {},
   "source": [
    "## 全部主题"
   ]
  },
  {
   "cell_type": "code",
   "execution_count": 42,
   "metadata": {},
   "outputs": [],
   "source": [
    "# 9个主题文件夹的路径\n",
    "folders = ['Career', 'Education', 'Emotion&Stress', 'Family Relationship', 'Love&Marriage', 'Mental Disease', 'Self-growth', 'Sex', 'Social Relationship']\n",
    "for theme_folder in folders:\n",
    "    theme_folder_path = os.path.abspath(os.path.join('..', 'CPsyCounE', theme_folder))\n",
    "    # 执行读取JSON文件\n",
    "    dialogues = read_json_files(theme_folder_path)\n",
    "\n",
    "    for i in range(len(dialogues)):\n",
    "        cnt = i\n",
    "        dialogue_data = dialogues[i]\n",
    "        # 构造Turn-Based对话\n",
    "        turn_based_dialogues = construct_turn_based_dialogues(dialogue_data)\n",
    "        # 生成回复\n",
    "        turn_based_replies = generate_replies(turn_based_dialogues, model_reply)\n",
    "        # 评价得分\n",
    "        scores = evaluate_replies(turn_based_dialogues, turn_based_replies, evaluate_reply)\n",
    "        # 写入评价结果\n",
    "        write_evaluation_results(scores, theme_folder, cnt)"
   ]
  }
 ],
 "metadata": {
  "kernelspec": {
   "display_name": "base",
   "language": "python",
   "name": "python3"
  },
  "language_info": {
   "codemirror_mode": {
    "name": "ipython",
    "version": 3
   },
   "file_extension": ".py",
   "mimetype": "text/x-python",
   "name": "python",
   "nbconvert_exporter": "python",
   "pygments_lexer": "ipython3",
   "version": "3.9.16"
  }
 },
 "nbformat": 4,
 "nbformat_minor": 2
}
